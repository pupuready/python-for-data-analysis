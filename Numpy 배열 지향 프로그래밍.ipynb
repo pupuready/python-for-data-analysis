{
 "cells": [
  {
   "cell_type": "markdown",
   "id": "bd1eb9bd",
   "metadata": {},
   "source": [
    "## Numpy 배열 지향 프로그래밍"
   ]
  },
  {
   "cell_type": "code",
   "execution_count": 8,
   "id": "2cbbbd44",
   "metadata": {},
   "outputs": [],
   "source": [
    "import numpy as np\n",
    "points=np.arange(-5,5,0.01)\n",
    "xs,ys= np.meshgrid(points,points)"
   ]
  },
  {
   "cell_type": "code",
   "execution_count": 9,
   "id": "ec3b00bb",
   "metadata": {},
   "outputs": [
    {
     "data": {
      "text/plain": [
       "array([[-5.  , -4.99, -4.98, ...,  4.97,  4.98,  4.99],\n",
       "       [-5.  , -4.99, -4.98, ...,  4.97,  4.98,  4.99],\n",
       "       [-5.  , -4.99, -4.98, ...,  4.97,  4.98,  4.99],\n",
       "       ...,\n",
       "       [-5.  , -4.99, -4.98, ...,  4.97,  4.98,  4.99],\n",
       "       [-5.  , -4.99, -4.98, ...,  4.97,  4.98,  4.99],\n",
       "       [-5.  , -4.99, -4.98, ...,  4.97,  4.98,  4.99]])"
      ]
     },
     "execution_count": 9,
     "metadata": {},
     "output_type": "execute_result"
    }
   ],
   "source": [
    "xs"
   ]
  },
  {
   "cell_type": "code",
   "execution_count": 10,
   "id": "db172f1d",
   "metadata": {},
   "outputs": [
    {
     "data": {
      "text/plain": [
       "array([[-5.  , -5.  , -5.  , ..., -5.  , -5.  , -5.  ],\n",
       "       [-4.99, -4.99, -4.99, ..., -4.99, -4.99, -4.99],\n",
       "       [-4.98, -4.98, -4.98, ..., -4.98, -4.98, -4.98],\n",
       "       ...,\n",
       "       [ 4.97,  4.97,  4.97, ...,  4.97,  4.97,  4.97],\n",
       "       [ 4.98,  4.98,  4.98, ...,  4.98,  4.98,  4.98],\n",
       "       [ 4.99,  4.99,  4.99, ...,  4.99,  4.99,  4.99]])"
      ]
     },
     "execution_count": 10,
     "metadata": {},
     "output_type": "execute_result"
    }
   ],
   "source": [
    "ys"
   ]
  },
  {
   "cell_type": "code",
   "execution_count": 14,
   "id": "658571b5",
   "metadata": {},
   "outputs": [],
   "source": [
    "xarr=np.array([1.1,1.2,1.3,1.4,1.5])\n",
    "yarr=np.array([2.1,2.2,2.3,2.4,2.5])\n",
    "cond=np.array([True,False,True,True,False])"
   ]
  },
  {
   "cell_type": "code",
   "execution_count": 16,
   "id": "67ae6362",
   "metadata": {},
   "outputs": [
    {
     "data": {
      "text/plain": [
       "[1.1, 2.2, 1.3, 1.4, 2.5]"
      ]
     },
     "execution_count": 16,
     "metadata": {},
     "output_type": "execute_result"
    }
   ],
   "source": [
    "result=[(x if c else y) for x,y,c in zip(xarr,yarr,cond)]\n",
    "result"
   ]
  },
  {
   "cell_type": "code",
   "execution_count": 17,
   "id": "cb9f8fb0",
   "metadata": {},
   "outputs": [
    {
     "data": {
      "text/plain": [
       "array([1.1, 2.2, 1.3, 1.4, 2.5])"
      ]
     },
     "execution_count": 17,
     "metadata": {},
     "output_type": "execute_result"
    }
   ],
   "source": [
    "result=np.where(cond,xarr,yarr)\n",
    "result"
   ]
  },
  {
   "cell_type": "code",
   "execution_count": 18,
   "id": "c8660c6f",
   "metadata": {},
   "outputs": [
    {
     "data": {
      "text/plain": [
       "array([[-1.39741853, -1.91114205, -0.85085232, -1.60730242],\n",
       "       [ 0.23930779,  0.34628558, -1.40719031,  0.88285417],\n",
       "       [ 0.00597419, -1.89260066,  0.77111677, -0.35423173],\n",
       "       [ 0.2200386 , -0.01310659, -0.16438436,  1.81450233]])"
      ]
     },
     "execution_count": 18,
     "metadata": {},
     "output_type": "execute_result"
    }
   ],
   "source": [
    "arr=np.random.randn(4,4)\n",
    "arr"
   ]
  },
  {
   "cell_type": "code",
   "execution_count": 19,
   "id": "b69e7eea",
   "metadata": {},
   "outputs": [
    {
     "data": {
      "text/plain": [
       "array([[False, False, False, False],\n",
       "       [ True,  True, False,  True],\n",
       "       [ True, False,  True, False],\n",
       "       [ True, False, False,  True]])"
      ]
     },
     "execution_count": 19,
     "metadata": {},
     "output_type": "execute_result"
    }
   ],
   "source": [
    "arr>0"
   ]
  },
  {
   "cell_type": "code",
   "execution_count": 20,
   "id": "4c18165a",
   "metadata": {},
   "outputs": [
    {
     "data": {
      "text/plain": [
       "array([[-2, -2, -2, -2],\n",
       "       [ 2,  2, -2,  2],\n",
       "       [ 2, -2,  2, -2],\n",
       "       [ 2, -2, -2,  2]])"
      ]
     },
     "execution_count": 20,
     "metadata": {},
     "output_type": "execute_result"
    }
   ],
   "source": [
    "np.where(arr>0,2,-2)"
   ]
  },
  {
   "cell_type": "code",
   "execution_count": 31,
   "id": "45e0f3b0",
   "metadata": {},
   "outputs": [
    {
     "data": {
      "text/plain": [
       "59"
      ]
     },
     "execution_count": 31,
     "metadata": {},
     "output_type": "execute_result"
    }
   ],
   "source": [
    "arr=np.random.randn(100)\n",
    "(arr>0).sum()"
   ]
  },
  {
   "cell_type": "code",
   "execution_count": 34,
   "id": "c4261a65",
   "metadata": {},
   "outputs": [
    {
     "data": {
      "text/plain": [
       "True"
      ]
     },
     "execution_count": 34,
     "metadata": {},
     "output_type": "execute_result"
    }
   ],
   "source": [
    "bools=np.array([False,False,False,False,True])\n",
    "bools.any()\n"
   ]
  },
  {
   "cell_type": "code",
   "execution_count": 35,
   "id": "6003c641",
   "metadata": {},
   "outputs": [
    {
     "data": {
      "text/plain": [
       "False"
      ]
     },
     "execution_count": 35,
     "metadata": {},
     "output_type": "execute_result"
    }
   ],
   "source": [
    "bools.all()"
   ]
  },
  {
   "cell_type": "code",
   "execution_count": 36,
   "id": "945fee58",
   "metadata": {},
   "outputs": [
    {
     "data": {
      "text/plain": [
       "array([ 0.54935939,  1.42511203, -0.41238308, -1.52645615,  0.63195534,\n",
       "        0.66198492])"
      ]
     },
     "execution_count": 36,
     "metadata": {},
     "output_type": "execute_result"
    }
   ],
   "source": [
    "arr=np.random.randn(6)\n",
    "arr"
   ]
  },
  {
   "cell_type": "code",
   "execution_count": 37,
   "id": "cf14b503",
   "metadata": {},
   "outputs": [],
   "source": [
    "arr.sort()"
   ]
  },
  {
   "cell_type": "code",
   "execution_count": 38,
   "id": "6b2ea473",
   "metadata": {},
   "outputs": [
    {
     "data": {
      "text/plain": [
       "array([-1.52645615, -0.41238308,  0.54935939,  0.63195534,  0.66198492,\n",
       "        1.42511203])"
      ]
     },
     "execution_count": 38,
     "metadata": {},
     "output_type": "execute_result"
    }
   ],
   "source": [
    "arr"
   ]
  },
  {
   "cell_type": "code",
   "execution_count": 43,
   "id": "b457deaa",
   "metadata": {},
   "outputs": [
    {
     "data": {
      "text/plain": [
       "array([[ 2.48435754,  0.98965997,  0.26606675],\n",
       "       [-0.02947167, -0.15115387, -0.44128734],\n",
       "       [-0.90307533, -1.04362265,  2.43275463],\n",
       "       [-0.67430899, -1.21798766,  0.38918481],\n",
       "       [-0.06460356, -0.44374623,  0.32293438]])"
      ]
     },
     "execution_count": 43,
     "metadata": {},
     "output_type": "execute_result"
    }
   ],
   "source": [
    "arr=np.random.randn(5,3)\n",
    "arr"
   ]
  },
  {
   "cell_type": "code",
   "execution_count": 44,
   "id": "65eacba7",
   "metadata": {},
   "outputs": [
    {
     "data": {
      "text/plain": [
       "array([[ 0.26606675,  0.98965997,  2.48435754],\n",
       "       [-0.44128734, -0.15115387, -0.02947167],\n",
       "       [-1.04362265, -0.90307533,  2.43275463],\n",
       "       [-1.21798766, -0.67430899,  0.38918481],\n",
       "       [-0.44374623, -0.06460356,  0.32293438]])"
      ]
     },
     "execution_count": 44,
     "metadata": {},
     "output_type": "execute_result"
    }
   ],
   "source": [
    "arr.sort(1)\n",
    "arr"
   ]
  },
  {
   "cell_type": "code",
   "execution_count": 45,
   "id": "3204257b",
   "metadata": {},
   "outputs": [
    {
     "data": {
      "text/plain": [
       "array([[-1.21798766, -0.90307533, -0.02947167],\n",
       "       [-1.04362265, -0.67430899,  0.32293438],\n",
       "       [-0.44374623, -0.15115387,  0.38918481],\n",
       "       [-0.44128734, -0.06460356,  2.43275463],\n",
       "       [ 0.26606675,  0.98965997,  2.48435754]])"
      ]
     },
     "execution_count": 45,
     "metadata": {},
     "output_type": "execute_result"
    }
   ],
   "source": [
    "arr.sort(0)\n",
    "arr"
   ]
  },
  {
   "cell_type": "code",
   "execution_count": 49,
   "id": "dff3b917",
   "metadata": {},
   "outputs": [
    {
     "data": {
      "text/plain": [
       "array([3, 4, 5])"
      ]
     },
     "execution_count": 49,
     "metadata": {},
     "output_type": "execute_result"
    }
   ],
   "source": [
    "x=np.array([1,2,3,4,5])\n",
    "y=np.array([3,4,5,6,7])\n",
    "np.intersect1d(x,y)"
   ]
  },
  {
   "cell_type": "code",
   "execution_count": 50,
   "id": "68f2c666",
   "metadata": {},
   "outputs": [
    {
     "data": {
      "text/plain": [
       "array([1, 2, 3, 4, 5, 6, 7])"
      ]
     },
     "execution_count": 50,
     "metadata": {},
     "output_type": "execute_result"
    }
   ],
   "source": [
    "np.union1d(x,y)"
   ]
  },
  {
   "cell_type": "code",
   "execution_count": 51,
   "id": "676bac5e",
   "metadata": {},
   "outputs": [
    {
     "data": {
      "text/plain": [
       "array([1, 2])"
      ]
     },
     "execution_count": 51,
     "metadata": {},
     "output_type": "execute_result"
    }
   ],
   "source": [
    "np.setdiff1d(x,y)"
   ]
  },
  {
   "cell_type": "code",
   "execution_count": 52,
   "id": "e56fd3d0",
   "metadata": {},
   "outputs": [],
   "source": [
    "arr=np.arange(10)\n",
    "np.save('some_array',arr)"
   ]
  },
  {
   "cell_type": "code",
   "execution_count": 53,
   "id": "410f6f8e",
   "metadata": {},
   "outputs": [
    {
     "data": {
      "text/plain": [
       "array([0, 1, 2, 3, 4, 5, 6, 7, 8, 9])"
      ]
     },
     "execution_count": 53,
     "metadata": {},
     "output_type": "execute_result"
    }
   ],
   "source": [
    "np.load(\"some_array.npy\")"
   ]
  },
  {
   "cell_type": "code",
   "execution_count": 56,
   "id": "c111348b",
   "metadata": {},
   "outputs": [
    {
     "data": {
      "text/plain": [
       "array([10, 11, 12, 13, 14, 15, 16, 17, 18, 19])"
      ]
     },
     "execution_count": 56,
     "metadata": {},
     "output_type": "execute_result"
    }
   ],
   "source": [
    "arr1=np.arange(10)\n",
    "arr2=np.arange(10,20,1)"
   ]
  },
  {
   "cell_type": "code",
   "execution_count": 57,
   "id": "165fedaa",
   "metadata": {},
   "outputs": [],
   "source": [
    "np.savez('array_archive.npz',a=arr1,b=arr2)"
   ]
  },
  {
   "cell_type": "code",
   "execution_count": 58,
   "id": "51a67441",
   "metadata": {},
   "outputs": [
    {
     "data": {
      "text/plain": [
       "array([10, 11, 12, 13, 14, 15, 16, 17, 18, 19])"
      ]
     },
     "execution_count": 58,
     "metadata": {},
     "output_type": "execute_result"
    }
   ],
   "source": [
    "arch=np.load('array_archive.npz')\n",
    "arch['b']"
   ]
  },
  {
   "cell_type": "code",
   "execution_count": 59,
   "id": "bb00425a",
   "metadata": {},
   "outputs": [],
   "source": [
    "samples=np.random.normal(size=(4,4))"
   ]
  },
  {
   "cell_type": "code",
   "execution_count": 60,
   "id": "1500b43a",
   "metadata": {},
   "outputs": [
    {
     "data": {
      "text/plain": [
       "array([[ 1.42546724,  0.90779245,  0.72968029,  1.34391412],\n",
       "       [ 0.70876463, -0.03724109, -0.69615482, -0.72063911],\n",
       "       [ 2.30319705,  1.55769042, -0.50521155, -0.34818464],\n",
       "       [ 0.08937644,  0.13339254, -0.51255827, -0.62657158]])"
      ]
     },
     "execution_count": 60,
     "metadata": {},
     "output_type": "execute_result"
    }
   ],
   "source": [
    "samples"
   ]
  },
  {
   "cell_type": "code",
   "execution_count": 61,
   "id": "91202d82",
   "metadata": {},
   "outputs": [
    {
     "data": {
      "text/plain": [
       "array([ 0.50458802,  1.93833195,  0.40505077, -0.71364687, -2.1226559 ,\n",
       "       -0.58639938,  0.5137612 , -0.76697239,  0.74231086,  0.40758345])"
      ]
     },
     "execution_count": 61,
     "metadata": {},
     "output_type": "execute_result"
    }
   ],
   "source": [
    "samples=np.random.randn(10)\n",
    "samples"
   ]
  },
  {
   "cell_type": "code",
   "execution_count": 65,
   "id": "bceaab59",
   "metadata": {},
   "outputs": [
    {
     "data": {
      "text/plain": [
       "array([[8, 8, 7],\n",
       "       [6, 3, 2]])"
      ]
     },
     "execution_count": 65,
     "metadata": {},
     "output_type": "execute_result"
    }
   ],
   "source": [
    "samples=np.random.randint(1,10,(2,3))\n",
    "samples"
   ]
  },
  {
   "cell_type": "code",
   "execution_count": 72,
   "id": "39808bf1",
   "metadata": {},
   "outputs": [
    {
     "data": {
      "text/plain": [
       "[<matplotlib.lines.Line2D at 0x7ffd6da67c10>]"
      ]
     },
     "execution_count": 72,
     "metadata": {},
     "output_type": "execute_result"
    },
    {
     "data": {
      "image/png": "[encoded data removed]",
      "text/plain": [
       "<Figure size 640x480 with 1 Axes>"
      ]
     },
     "metadata": {},
     "output_type": "display_data"
    }
   ],
   "source": [
    "import matplotlib.pyplot as plt\n",
    "import random\n",
    "position=0\n",
    "walk=[position]\n",
    "steps=1000\n",
    "for i in range(steps):\n",
    "    step = 1 if random.randint(0,1) else -1\n",
    "    position+=step\n",
    "    walk.append(position)\n",
    "plt.plot(walk)"
   ]
  },
  {
   "cell_type": "code",
   "execution_count": 78,
   "id": "d7f4f83b",
   "metadata": {},
   "outputs": [
    {
     "data": {
      "text/plain": [
       "[<matplotlib.lines.Line2D at 0x7ffd6dd0b790>]"
      ]
     },
     "execution_count": 78,
     "metadata": {},
     "output_type": "execute_result"
    },
    {
     "data": {
      "image/png": "[encoded data removed]",
      "text/plain": [
       "<Figure size 640x480 with 1 Axes>"
      ]
     },
     "metadata": {},
     "output_type": "display_data"
    }
   ],
   "source": [
    "nsteps=1000\n",
    "draws=np.random.randint(0,2,size=nsteps)\n",
    "steps=np.where(draws>0,1,-1)\n",
    "walk=steps.cumsum()\n",
    "plt.plot(walk)"
   ]
  },
  {
   "cell_type": "code",
   "execution_count": null,
   "id": "86154647",
   "metadata": {},
   "outputs": [],
   "source": []
  }
 ],
 "metadata": {
  "kernelspec": {
   "display_name": "Python 3 (ipykernel)",
   "language": "python",
   "name": "python3"
  },
  "language_info": {
   "codemirror_mode": {
    "name": "ipython",
    "version": 3
   },
   "file_extension": ".py",
   "mimetype": "text/x-python",
   "name": "python",
   "nbconvert_exporter": "python",
   "pygments_lexer": "ipython3",
   "version": "3.10.9"
  }
 },
 "nbformat": 4,
 "nbformat_minor": 5
}

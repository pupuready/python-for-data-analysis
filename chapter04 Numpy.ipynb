{
 "cells": [
  {
   "cell_type": "markdown",
   "id": "73fc1bfe",
   "metadata": {},
   "source": [
    "# Numpy\n",
    "### 파이썬에서 산술 계산을 위한 가장 중요한 필수 패키지 중 하나다.대부분의 데이터 분석 애플리케이션에서 중요하게 생각하는 기능은 다음과 같다.\n",
    "#### 1.벡터 배열 상에서 데이터 가공(먼징, 랭글링) 정제, 부분집합, 필터링, 변현 그리고 다른 여러 종류의 연산을 빠르게 수행\n",
    "#### 2.정렬, 유일 원소 찾기, 집합 연산 같은 일반적인 배열 처리 알고리즘\n",
    "#### 3.통계의 효과적인 표현과 데이터를 수집 요약하기\n",
    "#### 4.다양한 종류의 데이터를 병합하고 엮기 위한 데이터 정렬과 데이터 간의 관계 조작\n",
    "#### 5.내부에서 if-elif-else를 사용하는 반복문 대신 사용한 수 있는 조건절 표현을 허용하는 배열 처리.\n",
    "#### 6.데이터 묶음 전체에 적용할 수 있는 수집, 변형 함수 적용 같은 데이터 처리."
   ]
  },
  {
   "cell_type": "markdown",
   "id": "145a2603",
   "metadata": {},
   "source": [
    "## 4.1 Numpy ndarray : 다차원 배열 객체\n",
    "### numpy의 핵심 기능 중 하나는 ndarray라고 하는 n차원의 배열 객체인데 파이썬에서 이용할 수 있는 대규모 데이터 집합을 담을 수 있는 빠르고 유연한 자료구조다."
   ]
  },
  {
   "cell_type": "code",
   "execution_count": 2,
   "id": "cff4203f",
   "metadata": {},
   "outputs": [
    {
     "data": {
      "text/plain": [
       "array([[ 0.42133229,  0.93859418, -0.67457985],\n",
       "       [ 1.42814902,  1.53729045, -0.4516668 ]])"
      ]
     },
     "execution_count": 2,
     "metadata": {},
     "output_type": "execute_result"
    }
   ],
   "source": [
    "import numpy as np\n",
    "data=np.random.randn(2,3) #임의의 값을 생성\n",
    "data"
   ]
  },
  {
   "cell_type": "code",
   "execution_count": 10,
   "id": "c556b1cf",
   "metadata": {},
   "outputs": [
    {
     "data": {
      "text/plain": [
       "array([[15.78675345,  6.6476244 , -0.15759728],\n",
       "       [ 6.936159  , -6.22388164, -2.14325067]])"
      ]
     },
     "execution_count": 10,
     "metadata": {},
     "output_type": "execute_result"
    }
   ],
   "source": [
    "data * 10"
   ]
  },
  {
   "cell_type": "code",
   "execution_count": 11,
   "id": "d2d14425",
   "metadata": {},
   "outputs": [
    {
     "data": {
      "text/plain": [
       "array([[ 3.15735069,  1.32952488, -0.03151946],\n",
       "       [ 1.3872318 , -1.24477633, -0.42865013]])"
      ]
     },
     "execution_count": 11,
     "metadata": {},
     "output_type": "execute_result"
    }
   ],
   "source": [
    "data+data\n",
    "#배열이 스칼라 원소 간의 연산에 사용하는 문법과 비슷한 방식을 사용해서 전체 데이터 블록에 수학적인 연산이 가능하다."
   ]
  },
  {
   "cell_type": "markdown",
   "id": "af9ac3b7",
   "metadata": {},
   "source": [
    "### ndarray는 \"같은 종류의\" 데이터를 담을 수 있는 포괄적인 다차원 배열이고, ndarray의 모든 원소는 같은 자료형이어야 한다.\n",
    "### 모든 배열은 각 차원의 크기를 알려주는 shape이라는 튜플과 배열에 저장된 자료형을 알려주는 dtype이라는 객체를 가지고있다."
   ]
  },
  {
   "cell_type": "code",
   "execution_count": 12,
   "id": "ff8414cd",
   "metadata": {},
   "outputs": [
    {
     "data": {
      "text/plain": [
       "(2, 3)"
      ]
     },
     "execution_count": 12,
     "metadata": {},
     "output_type": "execute_result"
    }
   ],
   "source": [
    "data.shape\n",
    "#데이터의 차원의 크기 출력"
   ]
  },
  {
   "cell_type": "code",
   "execution_count": 13,
   "id": "629b2f78",
   "metadata": {},
   "outputs": [
    {
     "data": {
      "text/plain": [
       "dtype('float64')"
      ]
     },
     "execution_count": 13,
     "metadata": {},
     "output_type": "execute_result"
    }
   ],
   "source": [
    "data.dtype\n",
    "#데이터에 저장된 자료형 출력"
   ]
  },
  {
   "cell_type": "markdown",
   "id": "5178da91",
   "metadata": {},
   "source": [
    "### 4.1.1 ndarray 생성하기\n",
    "#### 배열을 생성하는 가장 쉬운 방법은 array 함수를 이용하는 것이다. 순차적인 객체를 넘겨받고, 넘겨받은 데이터가 들어 있는 새로운 numpy 배열을 생성한다."
   ]
  },
  {
   "cell_type": "code",
   "execution_count": 14,
   "id": "8376dd29",
   "metadata": {},
   "outputs": [
    {
     "data": {
      "text/plain": [
       "list"
      ]
     },
     "execution_count": 14,
     "metadata": {},
     "output_type": "execute_result"
    }
   ],
   "source": [
    "data1=[1,2,3,4,5]\n",
    "type(data1)"
   ]
  },
  {
   "cell_type": "code",
   "execution_count": 15,
   "id": "2a1bd378",
   "metadata": {},
   "outputs": [
    {
     "data": {
      "text/plain": [
       "numpy.ndarray"
      ]
     },
     "execution_count": 15,
     "metadata": {},
     "output_type": "execute_result"
    }
   ],
   "source": [
    "np_data1=np.array(data1)\n",
    "type(np_data1)"
   ]
  },
  {
   "cell_type": "code",
   "execution_count": 16,
   "id": "f49b0576",
   "metadata": {},
   "outputs": [
    {
     "data": {
      "text/plain": [
       "array([[1, 2, 3, 4],\n",
       "       [5, 6, 7, 8]])"
      ]
     },
     "execution_count": 16,
     "metadata": {},
     "output_type": "execute_result"
    }
   ],
   "source": [
    "#같은 길이를 가지는 리스트를 내포하고 있는 순차 데이터는 다차원 배열로 변환 가능하다.\n",
    "data2=[[1,2,3,4],[5,6,7,8]]\n",
    "np_data2=np.array(data2)\n",
    "np_data2"
   ]
  },
  {
   "cell_type": "code",
   "execution_count": 17,
   "id": "88e250ca",
   "metadata": {},
   "outputs": [
    {
     "data": {
      "text/plain": [
       "2"
      ]
     },
     "execution_count": 17,
     "metadata": {},
     "output_type": "execute_result"
    }
   ],
   "source": [
    "#ndim:해당 데이터의 차원을 반환 shape는 크기를 반환\n",
    "np_data2.ndim"
   ]
  },
  {
   "cell_type": "code",
   "execution_count": 18,
   "id": "2e1d02de",
   "metadata": {},
   "outputs": [
    {
     "data": {
      "text/plain": [
       "(2, 4)"
      ]
     },
     "execution_count": 18,
     "metadata": {},
     "output_type": "execute_result"
    }
   ],
   "source": [
    "np_data2.shape"
   ]
  },
  {
   "cell_type": "code",
   "execution_count": 19,
   "id": "b3296499",
   "metadata": {},
   "outputs": [
    {
     "data": {
      "text/plain": [
       "array([0., 0., 0., 0., 0., 0., 0., 0., 0., 0.])"
      ]
     },
     "execution_count": 19,
     "metadata": {},
     "output_type": "execute_result"
    }
   ],
   "source": [
    "#np.zeros, ones를 이용해 배열을 생성할 수 있다. 원하는 형태의 튜플을 넘기면 된다.\n",
    "np.zeros(10)"
   ]
  },
  {
   "cell_type": "code",
   "execution_count": 20,
   "id": "2aa78304",
   "metadata": {},
   "outputs": [
    {
     "data": {
      "text/plain": [
       "array([[0., 0., 0., 0., 0., 0.],\n",
       "       [0., 0., 0., 0., 0., 0.],\n",
       "       [0., 0., 0., 0., 0., 0.]])"
      ]
     },
     "execution_count": 20,
     "metadata": {},
     "output_type": "execute_result"
    }
   ],
   "source": [
    "np.zeros((3,6))"
   ]
  },
  {
   "cell_type": "code",
   "execution_count": 21,
   "id": "bc124c7d",
   "metadata": {},
   "outputs": [
    {
     "data": {
      "text/plain": [
       "array([[[0., 0.],\n",
       "        [0., 0.],\n",
       "        [0., 0.]],\n",
       "\n",
       "       [[0., 0.],\n",
       "        [0., 0.],\n",
       "        [0., 0.]]])"
      ]
     },
     "execution_count": 21,
     "metadata": {},
     "output_type": "execute_result"
    }
   ],
   "source": [
    "np.zeros((2,3,2))"
   ]
  },
  {
   "cell_type": "code",
   "execution_count": 22,
   "id": "751abea8",
   "metadata": {},
   "outputs": [
    {
     "data": {
      "text/plain": [
       "array([ 0,  1,  2,  3,  4,  5,  6,  7,  8,  9, 10, 11, 12, 13, 14])"
      ]
     },
     "execution_count": 22,
     "metadata": {},
     "output_type": "execute_result"
    }
   ],
   "source": [
    "#arange는 numpy의 range함수이다.\n",
    "np.arange(15)"
   ]
  },
  {
   "cell_type": "markdown",
   "id": "200f2009",
   "metadata": {},
   "source": [
    "+a\n",
    "ndarray의 dtype\n",
    "dtype은 ndarray가 메모리에 있는 특정 데이터를 해석하기 위해 필요한 정보(또는 메타데이터)를 담고 있는 특수한 객체이다.\n",
    "\n",
    "dtype이 있기에 넘파이가 강력하면서도 유연한 도구가 될 수 있었는데, 대부분의 경우 데이터는 디스크에서 데이터를 읽고 쓰기 편하도록 하위레벨의 표현에 \n",
    "직접적으로 맞춰져 있어서 저수준 언어로 작성된 코드와 쉽게 연동이 된다. \n",
    "\n",
    "'ndarray'의 astype 메서드를 사용해서 배열의 dtype을 다른 자료형으로 명시적으로 변환(캐스팅) 가능하다"
   ]
  },
  {
   "cell_type": "code",
   "execution_count": 23,
   "id": "7136efbb",
   "metadata": {},
   "outputs": [
    {
     "data": {
      "text/plain": [
       "dtype('int64')"
      ]
     },
     "execution_count": 23,
     "metadata": {},
     "output_type": "execute_result"
    }
   ],
   "source": [
    "arr=np.array([1,2,3,4,5])\n",
    "arr.dtype"
   ]
  },
  {
   "cell_type": "code",
   "execution_count": 24,
   "id": "318e7eae",
   "metadata": {},
   "outputs": [
    {
     "data": {
      "text/plain": [
       "dtype('float64')"
      ]
     },
     "execution_count": 24,
     "metadata": {},
     "output_type": "execute_result"
    }
   ],
   "source": [
    "float_arr=arr.astype(np.float64)\n",
    "float_arr.dtype\n",
    "#위 예제는 정수형을 부동소수점으로 캐스팅하였다. 부동소수점 자료형을 정수형으로 변환하면 소수점 아래 자리는 비어진다."
   ]
  },
  {
   "cell_type": "code",
   "execution_count": 25,
   "id": "13add4e5",
   "metadata": {},
   "outputs": [
    {
     "data": {
      "text/plain": [
       "dtype('float64')"
      ]
     },
     "execution_count": 25,
     "metadata": {},
     "output_type": "execute_result"
    }
   ],
   "source": [
    "arr2=np.array([1.2,3.4,-45.2])\n",
    "arr2.dtype"
   ]
  },
  {
   "cell_type": "code",
   "execution_count": 26,
   "id": "e4945896",
   "metadata": {},
   "outputs": [
    {
     "data": {
      "text/plain": [
       "array([  1,   3, -45], dtype=int32)"
      ]
     },
     "execution_count": 26,
     "metadata": {},
     "output_type": "execute_result"
    }
   ],
   "source": [
    "int_arr2=arr2.astype(np.int32)\n",
    "int_arr2"
   ]
  },
  {
   "cell_type": "markdown",
   "id": "2d43f4de",
   "metadata": {},
   "source": [
    "numpy 배열의 산술연산\n",
    "배열의 중요한 특징은 for문을 작성하지 않고 데이터를 일괄 처리할 수 있다는 것이다. 이를 '벡터화'라고 하는데, 같은 크기의 배열 간 산술연산은\n",
    "배열의 각 원소 단위로 적용된다. 밑에 예제"
   ]
  },
  {
   "cell_type": "code",
   "execution_count": 30,
   "id": "e6e52f6b",
   "metadata": {},
   "outputs": [
    {
     "data": {
      "text/plain": [
       "dtype('float64')"
      ]
     },
     "execution_count": 30,
     "metadata": {},
     "output_type": "execute_result"
    }
   ],
   "source": [
    "arr=np.array([[1.,2.,3.],[4.,5.,6.]])\n",
    "arr\n",
    "#여기서 각 원소에 .을 추가함으로써 부동소수점 자료형으로 저장되어진다"
   ]
  },
  {
   "cell_type": "code",
   "execution_count": 35,
   "id": "28a64824",
   "metadata": {},
   "outputs": [
    {
     "data": {
      "text/plain": [
       "array([[ 1.,  4.,  9.],\n",
       "       [16., 25., 36.]])"
      ]
     },
     "execution_count": 35,
     "metadata": {},
     "output_type": "execute_result"
    }
   ],
   "source": [
    "arr*arr"
   ]
  },
  {
   "cell_type": "code",
   "execution_count": 36,
   "id": "26808b56",
   "metadata": {},
   "outputs": [
    {
     "data": {
      "text/plain": [
       "array([[0., 0., 0.],\n",
       "       [0., 0., 0.]])"
      ]
     },
     "execution_count": 36,
     "metadata": {},
     "output_type": "execute_result"
    }
   ],
   "source": [
    "arr-arr"
   ]
  },
  {
   "cell_type": "code",
   "execution_count": 37,
   "id": "c2add3ef",
   "metadata": {},
   "outputs": [
    {
     "data": {
      "text/plain": [
       "array([[1.        , 0.5       , 0.33333333],\n",
       "       [0.25      , 0.2       , 0.16666667]])"
      ]
     },
     "execution_count": 37,
     "metadata": {},
     "output_type": "execute_result"
    }
   ],
   "source": [
    "#스칼라 인자가 포함된 산술 연산의 경우 배열 내의 모든 원소에 스칼라 인자가 적용된다.\n",
    "1/arr"
   ]
  },
  {
   "cell_type": "code",
   "execution_count": 38,
   "id": "030cbc0e",
   "metadata": {},
   "outputs": [
    {
     "data": {
      "text/plain": [
       "array([[0.5, 1. , 1.5],\n",
       "       [2. , 2.5, 3. ]])"
      ]
     },
     "execution_count": 38,
     "metadata": {},
     "output_type": "execute_result"
    }
   ],
   "source": [
    "arr*0.5"
   ]
  },
  {
   "cell_type": "code",
   "execution_count": 39,
   "id": "d0a1b2cd",
   "metadata": {},
   "outputs": [
    {
     "data": {
      "text/plain": [
       "array([[ 0.,  4.,  1.],\n",
       "       [ 7.,  2., 12.]])"
      ]
     },
     "execution_count": 39,
     "metadata": {},
     "output_type": "execute_result"
    }
   ],
   "source": [
    "\n",
    "arr2=np.array([[0.,4.,1.],[7.,2.,12.]])\n",
    "arr2"
   ]
  },
  {
   "cell_type": "code",
   "execution_count": 40,
   "id": "39cf4f3d",
   "metadata": {},
   "outputs": [
    {
     "data": {
      "text/plain": [
       "array([[False,  True, False],\n",
       "       [ True, False,  True]])"
      ]
     },
     "execution_count": 40,
     "metadata": {},
     "output_type": "execute_result"
    }
   ],
   "source": [
    "arr2>arr"
   ]
  },
  {
   "cell_type": "markdown",
   "id": "62cae7ce",
   "metadata": {},
   "source": [
    "색인과 슬라이싱 기초\n",
    "numpy 배열에서 1차원 배열은 단순한데, 표면적으로는 파이썬의 리스트 객체와 유사하게 동작한다"
   ]
  },
  {
   "cell_type": "code",
   "execution_count": 48,
   "id": "fa8c3708",
   "metadata": {},
   "outputs": [
    {
     "data": {
      "text/plain": [
       "array([0, 1, 2, 3, 4, 5, 6, 7, 8, 9])"
      ]
     },
     "execution_count": 48,
     "metadata": {},
     "output_type": "execute_result"
    }
   ],
   "source": [
    "arr=np.arange(10)\n",
    "arr\n",
    "#numpy의 장점: 내부에서 if-elif-else를 사용하는 반복문 대신 사용한 수 있는 조건절 표현을 허용하는 배열 처리."
   ]
  },
  {
   "cell_type": "code",
   "execution_count": 50,
   "id": "4dc7490a",
   "metadata": {},
   "outputs": [
    {
     "data": {
      "text/plain": [
       "5"
      ]
     },
     "execution_count": 50,
     "metadata": {},
     "output_type": "execute_result"
    }
   ],
   "source": [
    "arr[5]"
   ]
  },
  {
   "cell_type": "code",
   "execution_count": 51,
   "id": "f1d76745",
   "metadata": {},
   "outputs": [
    {
     "data": {
      "text/plain": [
       "array([5, 6, 7])"
      ]
     },
     "execution_count": 51,
     "metadata": {},
     "output_type": "execute_result"
    }
   ],
   "source": [
    "arr[5:8]"
   ]
  },
  {
   "cell_type": "code",
   "execution_count": 52,
   "id": "45acc57b",
   "metadata": {},
   "outputs": [
    {
     "data": {
      "text/plain": [
       "array([ 0,  1,  2,  3,  4, 12, 12, 12,  8,  9])"
      ]
     },
     "execution_count": 52,
     "metadata": {},
     "output_type": "execute_result"
    }
   ],
   "source": [
    "arr[5:8]=12\n",
    "arr"
   ]
  },
  {
   "cell_type": "markdown",
   "id": "afdd22b5",
   "metadata": {},
   "source": [
    "위에서 볼 수 있듯이 arr[5:8]=12 처럼 배열 조각에 스칼라값을 대입하면 12가 선택영역 전체로 broadcasting 된다. 리스트와의 중요한 차이점은 \n",
    "배열 조각은 원본 배열의 '뷰'라는 점이다. 즉, 데이터는 복사되지 않고 뷰에 대한 변경은 그대로 원본 배열에 반영된다."
   ]
  },
  {
   "cell_type": "code",
   "execution_count": 55,
   "id": "e6aa2016",
   "metadata": {},
   "outputs": [
    {
     "data": {
      "text/plain": [
       "array([12, 12, 12])"
      ]
     },
     "execution_count": 55,
     "metadata": {},
     "output_type": "execute_result"
    }
   ],
   "source": [
    "arr_slice=arr[5:8]\n",
    "arr_slice"
   ]
  },
  {
   "cell_type": "code",
   "execution_count": 56,
   "id": "dbbf3dd5",
   "metadata": {},
   "outputs": [
    {
     "data": {
      "text/plain": [
       "array([ 0,  1,  2,  3,  4, 12, 12, 12,  8,  9])"
      ]
     },
     "execution_count": 56,
     "metadata": {},
     "output_type": "execute_result"
    }
   ],
   "source": [
    "arr"
   ]
  },
  {
   "cell_type": "code",
   "execution_count": 57,
   "id": "0410e0ad",
   "metadata": {},
   "outputs": [],
   "source": [
    "arr_slice[2]=12345"
   ]
  },
  {
   "cell_type": "code",
   "execution_count": 58,
   "id": "b9e1fb10",
   "metadata": {},
   "outputs": [
    {
     "data": {
      "text/plain": [
       "array([    0,     1,     2,     3,     4,    12,    12, 12345,     8,\n",
       "           9])"
      ]
     },
     "execution_count": 58,
     "metadata": {},
     "output_type": "execute_result"
    }
   ],
   "source": [
    "arr"
   ]
  },
  {
   "cell_type": "code",
   "execution_count": 59,
   "id": "b3dc3116",
   "metadata": {},
   "outputs": [
    {
     "data": {
      "text/plain": [
       "array([ 0,  1,  2,  3,  4, 64, 64, 64,  8,  9])"
      ]
     },
     "execution_count": 59,
     "metadata": {},
     "output_type": "execute_result"
    }
   ],
   "source": [
    "arr_slice[:]=64\n",
    "arr\n",
    "#단순히 [:]로 슬라이스를 하면 배열의 모든 값이 할당된다."
   ]
  },
  {
   "cell_type": "markdown",
   "id": "c893bcb0",
   "metadata": {},
   "source": [
    "numpy는 대용량의 데이터 처리를 염두에 두고 설계되었기 때문에 만약 numpy가 데이터 복사를 남발한다면 성능과 메모리 문제에 마주치게될 것이다.\n",
    "만약에 뷰 대신 슬라이스의 복사본을 얻고 싶다면\n",
    "arr_slice=arr[5:8].copy()를 사용하면 된다."
   ]
  },
  {
   "cell_type": "code",
   "execution_count": 61,
   "id": "aa983de3",
   "metadata": {},
   "outputs": [
    {
     "data": {
      "text/plain": [
       "array([4, 5, 6])"
      ]
     },
     "execution_count": 61,
     "metadata": {},
     "output_type": "execute_result"
    }
   ],
   "source": [
    "#다차원 배열을 다룰 때 주의해야할 점은 2차원 배열에서 각 색인에 해당하는 요소는 스칼라 값이 아니라 1차원 배열이라는 것이다\n",
    "arr2d=np.array([[1,2,3],[4,5,6],[7,8,9]])\n",
    "arr2d[1]"
   ]
  },
  {
   "cell_type": "code",
   "execution_count": 62,
   "id": "dea8c591",
   "metadata": {},
   "outputs": [
    {
     "data": {
      "text/plain": [
       "3"
      ]
     },
     "execution_count": 62,
     "metadata": {},
     "output_type": "execute_result"
    }
   ],
   "source": [
    "#따라서 개별 요소는 재귀적으로 접근해야 하지만 그렇게 하기는 귀찮으므로 콤마로 구분된 색인 리스트를 넘기면 된다. 고로 두 표현은 동일하다\n",
    "arr2d[0][2]\n",
    "arr2d[0,2]"
   ]
  },
  {
   "cell_type": "code",
   "execution_count": 74,
   "id": "eaf2ad39",
   "metadata": {},
   "outputs": [
    {
     "data": {
      "text/plain": [
       "array([[[ 1,  2,  3],\n",
       "        [ 4,  5,  6]],\n",
       "\n",
       "       [[ 7,  8,  9],\n",
       "        [10, 11, 12]]])"
      ]
     },
     "execution_count": 74,
     "metadata": {},
     "output_type": "execute_result"
    }
   ],
   "source": [
    "#다차원 배열에서 마지막 색인을 생략하면 반환되는 객체는 상위 차원의 데이터를 포함하고 있는 한 차원 낮은 ndarray가 된다\n",
    "#2x2x3 크기의 배열 arr3d가 있다면\n",
    "arr3d=np.array([[[1,2,3],[4,5,6]],[[7,8,9],[10,11,12]]])\n",
    "arr3d"
   ]
  },
  {
   "cell_type": "code",
   "execution_count": 75,
   "id": "36c98acb",
   "metadata": {},
   "outputs": [
    {
     "data": {
      "text/plain": [
       "array([[1, 2, 3],\n",
       "       [4, 5, 6]])"
      ]
     },
     "execution_count": 75,
     "metadata": {},
     "output_type": "execute_result"
    }
   ],
   "source": [
    "arr3d[0]\n",
    "#arr3d[0]의 크기는 2x3이된다."
   ]
  },
  {
   "cell_type": "code",
   "execution_count": 76,
   "id": "3d8fc176",
   "metadata": {},
   "outputs": [
    {
     "data": {
      "text/plain": [
       "array([[[64, 64, 64],\n",
       "        [64, 64, 64]],\n",
       "\n",
       "       [[ 7,  8,  9],\n",
       "        [10, 11, 12]]])"
      ]
     },
     "execution_count": 76,
     "metadata": {},
     "output_type": "execute_result"
    }
   ],
   "source": [
    "#arr3d[0]에는 스칼라 값과 배열 모두 대입할 수 있다.\n",
    "copy_arr3d=arr3d[0].copy()\n",
    "arr3d[0]=64\n",
    "arr3d"
   ]
  },
  {
   "cell_type": "code",
   "execution_count": 77,
   "id": "0b9360c1",
   "metadata": {},
   "outputs": [
    {
     "data": {
      "text/plain": [
       "array([[[ 1,  2,  3],\n",
       "        [ 4,  5,  6]],\n",
       "\n",
       "       [[ 7,  8,  9],\n",
       "        [10, 11, 12]]])"
      ]
     },
     "execution_count": 77,
     "metadata": {},
     "output_type": "execute_result"
    }
   ],
   "source": [
    "arr3d[0]=copy_arr3d\n",
    "arr3d"
   ]
  },
  {
   "cell_type": "markdown",
   "id": "b91326c8",
   "metadata": {},
   "source": [
    "슬라이스로 선택하기\n",
    "파이썬의 리스트 같은 1차원 객체처럼 ndarray는 익숙한 문법으로 슬라이싱할 수 있다."
   ]
  },
  {
   "cell_type": "code",
   "execution_count": 78,
   "id": "d83f993f",
   "metadata": {},
   "outputs": [
    {
     "data": {
      "text/plain": [
       "array([ 0,  1,  2,  3,  4, 64, 64, 64,  8,  9])"
      ]
     },
     "execution_count": 78,
     "metadata": {},
     "output_type": "execute_result"
    }
   ],
   "source": [
    "arr"
   ]
  },
  {
   "cell_type": "code",
   "execution_count": 79,
   "id": "163d715f",
   "metadata": {},
   "outputs": [
    {
     "data": {
      "text/plain": [
       "array([ 1,  2,  3,  4, 64])"
      ]
     },
     "execution_count": 79,
     "metadata": {},
     "output_type": "execute_result"
    }
   ],
   "source": [
    "arr[1:6]"
   ]
  },
  {
   "cell_type": "code",
   "execution_count": 80,
   "id": "6b573f89",
   "metadata": {},
   "outputs": [
    {
     "data": {
      "text/plain": [
       "array([[1, 2, 3],\n",
       "       [4, 5, 6],\n",
       "       [7, 8, 9]])"
      ]
     },
     "execution_count": 80,
     "metadata": {},
     "output_type": "execute_result"
    }
   ],
   "source": [
    "#2차원 배열의 슬라이싱하는 방법은 조금 다르다\n",
    "arr2d"
   ]
  },
  {
   "cell_type": "code",
   "execution_count": 84,
   "id": "5bdff79b",
   "metadata": {},
   "outputs": [
    {
     "data": {
      "text/plain": [
       "array([[1, 2, 3],\n",
       "       [4, 5, 6]])"
      ]
     },
     "execution_count": 84,
     "metadata": {},
     "output_type": "execute_result"
    }
   ],
   "source": [
    "arr2d[:2]"
   ]
  },
  {
   "cell_type": "code",
   "execution_count": 85,
   "id": "714db190",
   "metadata": {},
   "outputs": [
    {
     "data": {
      "text/plain": [
       "array([[1],\n",
       "       [4]])"
      ]
     },
     "execution_count": 85,
     "metadata": {},
     "output_type": "execute_result"
    }
   ],
   "source": [
    "arr2d[:2,:1]"
   ]
  },
  {
   "cell_type": "code",
   "execution_count": 86,
   "id": "d269c464",
   "metadata": {},
   "outputs": [
    {
     "data": {
      "text/plain": [
       "array([4, 5])"
      ]
     },
     "execution_count": 86,
     "metadata": {},
     "output_type": "execute_result"
    }
   ],
   "source": [
    "#정수 색인과 슬라이스를 함께 사용해서 한 차원 낮은 슬라이스를 얻을 수도 있다.\n",
    "arr2d[1,:2]"
   ]
  },
  {
   "cell_type": "code",
   "execution_count": 87,
   "id": "27acc81a",
   "metadata": {},
   "outputs": [
    {
     "data": {
      "text/plain": [
       "array([[1],\n",
       "       [4],\n",
       "       [7]])"
      ]
     },
     "execution_count": 87,
     "metadata": {},
     "output_type": "execute_result"
    }
   ],
   "source": [
    "arr2d[:,:1]"
   ]
  },
  {
   "cell_type": "markdown",
   "id": "78ae5a5f",
   "metadata": {},
   "source": [
    "4.1.5불리언값으로 선택하기\n",
    "\n",
    "중복된 이름이 포함된 배열과 randn 함수를 사용해서 임의의 표준 정규 분포 데이터를 생성하자"
   ]
  },
  {
   "cell_type": "code",
   "execution_count": 3,
   "id": "6e06a066",
   "metadata": {},
   "outputs": [
    {
     "data": {
      "text/plain": [
       "array([[ 0.5132709 , -0.64642041, -0.3830941 , -0.05174108],\n",
       "       [-0.61646299, -0.63870679,  0.9953796 ,  0.50230295],\n",
       "       [-0.22023293,  0.54338778, -1.07808195, -0.70245861],\n",
       "       [-0.96730205,  2.06318124, -0.64116641,  2.02728295],\n",
       "       [ 0.66856305, -2.16428278, -0.00482494, -2.50305077],\n",
       "       [ 0.72465652, -0.2229065 , -0.9243561 ,  1.18628139],\n",
       "       [ 0.97014549, -0.78036195,  0.80970713, -0.82902442]])"
      ]
     },
     "execution_count": 3,
     "metadata": {},
     "output_type": "execute_result"
    }
   ],
   "source": [
    "names=np.array(['Bob','Joe','Will','Bob','Will','Joe','Joe'])\n",
    "data=np.random.randn(7,4)\n",
    "data"
   ]
  },
  {
   "cell_type": "code",
   "execution_count": 4,
   "id": "e793eb20",
   "metadata": {},
   "outputs": [
    {
     "data": {
      "text/plain": [
       "array([ True, False, False,  True, False, False, False])"
      ]
     },
     "execution_count": 4,
     "metadata": {},
     "output_type": "execute_result"
    }
   ],
   "source": [
    "#각각의 이름은 data 배열의 각 로우에 '대응'한다고 가정하자. 만약에 전체 로우에서 'Bob'와 같은 이름을 선택하려면 산술 연산과 마찬가지로 배열에 대한\n",
    "#비교연산도 백터화 되므로 names를 'Bob'문자열과 비교하면 불리언 배열을 반환한다\n",
    "names=='Bob'"
   ]
  },
  {
   "cell_type": "code",
   "execution_count": 5,
   "id": "d903086c",
   "metadata": {},
   "outputs": [
    {
     "data": {
      "text/plain": [
       "array([[ 0.5132709 , -0.64642041, -0.3830941 , -0.05174108],\n",
       "       [-0.96730205,  2.06318124, -0.64116641,  2.02728295]])"
      ]
     },
     "execution_count": 5,
     "metadata": {},
     "output_type": "execute_result"
    }
   ],
   "source": [
    "#이 불리언 배열을 색인으로 사용할 수 있다.\n",
    "data[names==\"Bob\"]\n",
    "#불리언 배열은 반드시 색인하려는 축의 길이와 동일한 길이를 가져야한다.(불리언 배열이 색인하려는 축과 동일한 길이를 가지지않아도 실패하지 않는다.고로 주의)"
   ]
  },
  {
   "cell_type": "code",
   "execution_count": 11,
   "id": "3a4e1970",
   "metadata": {},
   "outputs": [
    {
     "data": {
      "text/plain": [
       "array([[ 0.5132709 , -0.64642041],\n",
       "       [-0.96730205,  2.06318124]])"
      ]
     },
     "execution_count": 11,
     "metadata": {},
     "output_type": "execute_result"
    }
   ],
   "source": [
    "#불리언 배열 색인도 슬라이스나 요소를 선택하는 데 짜 맞출 수 있다.\n",
    "data[names=='Bob',:2]"
   ]
  },
  {
   "cell_type": "code",
   "execution_count": 7,
   "id": "ef53f868",
   "metadata": {},
   "outputs": [
    {
     "data": {
      "text/plain": [
       "array([-0.05174108,  2.02728295])"
      ]
     },
     "execution_count": 7,
     "metadata": {},
     "output_type": "execute_result"
    }
   ],
   "source": [
    "data[names==\"Bob\",3]"
   ]
  },
  {
   "cell_type": "code",
   "execution_count": 98,
   "id": "69526015",
   "metadata": {},
   "outputs": [
    {
     "data": {
      "text/plain": [
       "array([False,  True,  True, False,  True,  True,  True])"
      ]
     },
     "execution_count": 98,
     "metadata": {},
     "output_type": "execute_result"
    }
   ],
   "source": [
    "#Bob이 아닌 요소들을 선택하려면 != 연산자를 사용하거나 ~를 사용해서 조건절을 부인하면 된다.\n",
    "names!='Bob'\n",
    "~(names=='Bob')"
   ]
  },
  {
   "cell_type": "code",
   "execution_count": 100,
   "id": "4e9a8eb1",
   "metadata": {},
   "outputs": [
    {
     "data": {
      "text/plain": [
       "array([[-0.21182578,  0.8965067 ,  1.49844582, -0.41909834],\n",
       "       [-0.06534977, -0.26753473,  0.33158171,  2.07495602],\n",
       "       [ 0.50908895,  0.10597614,  0.11396517, -1.21356034],\n",
       "       [-0.22541898,  1.14692604, -0.76156805,  1.73640102],\n",
       "       [-0.65800707, -0.80421816,  2.05344066,  0.31559467]])"
      ]
     },
     "execution_count": 100,
     "metadata": {},
     "output_type": "execute_result"
    }
   ],
   "source": [
    "cond= ~(names=='Bob')\n",
    "#'~'연산자는 일반적인 조건을 반대로 쓰고 싶을 대 유용하다.\n",
    "data[cond]"
   ]
  },
  {
   "cell_type": "code",
   "execution_count": 103,
   "id": "b949877b",
   "metadata": {},
   "outputs": [
    {
     "data": {
      "text/plain": [
       "array([[ 0.08516211,  0.86533149, -0.04682661,  1.57142815],\n",
       "       [-0.06534977, -0.26753473,  0.33158171,  2.07495602],\n",
       "       [ 0.05852164, -0.34931047,  1.24066775, -0.37347369],\n",
       "       [ 0.50908895,  0.10597614,  0.11396517, -1.21356034]])"
      ]
     },
     "execution_count": 103,
     "metadata": {},
     "output_type": "execute_result"
    }
   ],
   "source": [
    "#세 가지 이름 중에서 두 가지 이름을 선택하려면 &,| 같은 논리 연산자를 사용한 여러 개의 불리언 조건을 사용하면 된다.\n",
    "mask=(names=='Bob')|(names==\"Will\")\n",
    "data[mask]"
   ]
  },
  {
   "cell_type": "markdown",
   "id": "ba1df7c3",
   "metadata": {},
   "source": [
    "배열에 불리언 색인을 이용해서 데이터를 선택하면 반환되는 배열의 내용이 바뀌지 않더라도 항상 데이터 복사가 발생한다\n"
   ]
  },
  {
   "cell_type": "code",
   "execution_count": 107,
   "id": "11aaa349",
   "metadata": {},
   "outputs": [
    {
     "data": {
      "text/plain": [
       "array([[0.08516211, 0.86533149, 0.        , 1.57142815],\n",
       "       [0.        , 0.8965067 , 1.49844582, 0.        ],\n",
       "       [0.        , 0.        , 0.33158171, 2.07495602],\n",
       "       [0.05852164, 0.        , 1.24066775, 0.        ],\n",
       "       [0.50908895, 0.10597614, 0.11396517, 0.        ],\n",
       "       [0.        , 1.14692604, 0.        , 1.73640102],\n",
       "       [0.        , 0.        , 2.05344066, 0.31559467]])"
      ]
     },
     "execution_count": 107,
     "metadata": {},
     "output_type": "execute_result"
    }
   ],
   "source": [
    "#불리언 배열에 값을 대입하는 것은 상식적으로 이루어진다. 고로 다음과 같이 활용 가능하다.\n",
    "data[data<0]=0\n",
    "data"
   ]
  },
  {
   "cell_type": "code",
   "execution_count": 13,
   "id": "7676a701",
   "metadata": {},
   "outputs": [
    {
     "ename": "SyntaxError",
     "evalue": "invalid syntax (2996396334.py, line 1)",
     "output_type": "error",
     "traceback": [
      "\u001b[0;36m  Cell \u001b[0;32mIn[13], line 1\u001b[0;36m\u001b[0m\n\u001b[0;31m    4.1.6 팬시색인\u001b[0m\n\u001b[0m       ^\u001b[0m\n\u001b[0;31mSyntaxError\u001b[0m\u001b[0;31m:\u001b[0m invalid syntax\n"
     ]
    }
   ],
   "source": [
    "4.1.6 팬시색인\n",
    "#팬시 색인은 정수 배열을 사용한 색인을 설명하기 위해 numpy에서 차용한 단어다."
   ]
  },
  {
   "cell_type": "code",
   "execution_count": 14,
   "id": "31e246eb",
   "metadata": {},
   "outputs": [
    {
     "data": {
      "text/plain": [
       "array([[0., 0., 0., 0.],\n",
       "       [1., 1., 1., 1.],\n",
       "       [2., 2., 2., 2.],\n",
       "       [3., 3., 3., 3.],\n",
       "       [4., 4., 4., 4.],\n",
       "       [5., 5., 5., 5.],\n",
       "       [6., 6., 6., 6.],\n",
       "       [7., 7., 7., 7.]])"
      ]
     },
     "execution_count": 14,
     "metadata": {},
     "output_type": "execute_result"
    }
   ],
   "source": [
    "arr=np.empty((8,4))\n",
    "for i in range(8):\n",
    "    arr[i]=i\n",
    "arr"
   ]
  },
  {
   "cell_type": "code",
   "execution_count": 15,
   "id": "09bce131",
   "metadata": {},
   "outputs": [
    {
     "data": {
      "text/plain": [
       "array([[4., 4., 4., 4.],\n",
       "       [3., 3., 3., 3.],\n",
       "       [0., 0., 0., 0.],\n",
       "       [6., 6., 6., 6.]])"
      ]
     },
     "execution_count": 15,
     "metadata": {},
     "output_type": "execute_result"
    }
   ],
   "source": [
    "#특정한 순서로 로우를 선택하고 싶다면 그냥 원하는 순서가 명시된 ndarray나 리스트를 넘기면 된다.\n",
    "arr[[4,3,0,6]]"
   ]
  },
  {
   "cell_type": "code",
   "execution_count": 16,
   "id": "8f0b62ed",
   "metadata": {},
   "outputs": [
    {
     "data": {
      "text/plain": [
       "array([[0., 0., 0., 0.],\n",
       "       [1., 1., 1., 1.],\n",
       "       [2., 2., 2., 2.],\n",
       "       [3., 3., 3., 3.],\n",
       "       [4., 4., 4., 4.],\n",
       "       [5., 5., 5., 5.],\n",
       "       [6., 6., 6., 6.],\n",
       "       [7., 7., 7., 7.]])"
      ]
     },
     "execution_count": 16,
     "metadata": {},
     "output_type": "execute_result"
    }
   ],
   "source": [
    "#색인으로 음수를 사용하면 끝에서부터 로우를 선택하게 된다\n",
    "arr[[-3,-5,-7]]\n",
    "arr"
   ]
  },
  {
   "cell_type": "code",
   "execution_count": 17,
   "id": "a641a7a0",
   "metadata": {},
   "outputs": [
    {
     "data": {
      "text/plain": [
       "array([[ 0,  1,  2,  3],\n",
       "       [ 4,  5,  6,  7],\n",
       "       [ 8,  9, 10, 11],\n",
       "       [12, 13, 14, 15],\n",
       "       [16, 17, 18, 19],\n",
       "       [20, 21, 22, 23],\n",
       "       [24, 25, 26, 27],\n",
       "       [28, 29, 30, 31]])"
      ]
     },
     "execution_count": 17,
     "metadata": {},
     "output_type": "execute_result"
    }
   ],
   "source": [
    "#다차원 색인 배열을 넘기면 각각의 색인 튜플에 대응하는 1차원 배열이 선택된다.\n",
    "arr=np.arange(32).reshape((8,4))\n",
    "arr"
   ]
  },
  {
   "cell_type": "code",
   "execution_count": 115,
   "id": "c3b34e2c",
   "metadata": {},
   "outputs": [
    {
     "data": {
      "text/plain": [
       "array([ 4, 13, 19, 22])"
      ]
     },
     "execution_count": 115,
     "metadata": {},
     "output_type": "execute_result"
    }
   ],
   "source": [
    "arr[[1,3,4,5],[0,1,3,2]]\n",
    "#배열이 몇 차원이든지 팬시 색인의 결과는 항상 1차원이다."
   ]
  },
  {
   "cell_type": "code",
   "execution_count": 119,
   "id": "acd22c22",
   "metadata": {},
   "outputs": [
    {
     "data": {
      "text/plain": [
       "array([[ 4,  5,  7,  6],\n",
       "       [12, 13, 15, 14],\n",
       "       [16, 17, 19, 18],\n",
       "       [20, 21, 23, 22]])"
      ]
     },
     "execution_count": 119,
     "metadata": {},
     "output_type": "execute_result"
    }
   ],
   "source": [
    "#행렬의 행과 열에 대응하는 사각형 모양의 값이 선택될려면 아래처럼 하면 된다.\n",
    "arr[[1,3,4,5]][:,[0,1,3,2]]"
   ]
  },
  {
   "cell_type": "markdown",
   "id": "9fd3569a",
   "metadata": {},
   "source": [
    "### 배열 전치와 축 바꾸기\n",
    "#### 배열 전치는 데이터를 복사하지 않고 데이터의 모양이 바뀐 뷰를 반환하는 특별한 기능이다.\n",
    "#### ndarray는 transpose 메서드와 T라는 이름의 특수한 속성을 가지고있다."
   ]
  },
  {
   "cell_type": "code",
   "execution_count": 122,
   "id": "538cea1e",
   "metadata": {},
   "outputs": [
    {
     "data": {
      "text/plain": [
       "array([[ 0,  1,  2,  3,  4],\n",
       "       [ 5,  6,  7,  8,  9],\n",
       "       [10, 11, 12, 13, 14]])"
      ]
     },
     "execution_count": 122,
     "metadata": {},
     "output_type": "execute_result"
    }
   ],
   "source": [
    "arr=np.arange(15).reshape((3,5))\n",
    "arr"
   ]
  },
  {
   "cell_type": "code",
   "execution_count": 123,
   "id": "a951c35c",
   "metadata": {},
   "outputs": [
    {
     "data": {
      "text/plain": [
       "array([[ 0,  5, 10],\n",
       "       [ 1,  6, 11],\n",
       "       [ 2,  7, 12],\n",
       "       [ 3,  8, 13],\n",
       "       [ 4,  9, 14]])"
      ]
     },
     "execution_count": 123,
     "metadata": {},
     "output_type": "execute_result"
    }
   ],
   "source": [
    "arr.T"
   ]
  },
  {
   "cell_type": "code",
   "execution_count": 124,
   "id": "5dedcb91",
   "metadata": {},
   "outputs": [
    {
     "data": {
      "text/plain": [
       "array([[ 0,  1,  2,  3,  4],\n",
       "       [ 5,  6,  7,  8,  9],\n",
       "       [10, 11, 12, 13, 14]])"
      ]
     },
     "execution_count": 124,
     "metadata": {},
     "output_type": "execute_result"
    }
   ],
   "source": [
    "arr"
   ]
  },
  {
   "cell_type": "code",
   "execution_count": 126,
   "id": "332c8c27",
   "metadata": {},
   "outputs": [
    {
     "data": {
      "text/plain": [
       "array([[ 0.71144895,  0.81074102,  1.47309279],\n",
       "       [-0.64599032,  1.55907519, -0.53721194],\n",
       "       [-0.34174219, -0.38158762,  0.5747142 ],\n",
       "       [-0.27342593, -0.09154743, -1.06507134],\n",
       "       [-1.35391805,  1.3829889 ,  1.05933088],\n",
       "       [ 1.21034188, -1.15108771,  0.28477523]])"
      ]
     },
     "execution_count": 126,
     "metadata": {},
     "output_type": "execute_result"
    }
   ],
   "source": [
    "#행렬 계산을 할 때 자주 사용하게 되는데, 예를 들어 행렬의 내적은 np.dot을 이용해서 구할 수 있다.\n",
    "arr=np.random.randn(6,3)\n",
    "arr"
   ]
  },
  {
   "cell_type": "code",
   "execution_count": 128,
   "id": "49bdcb9e",
   "metadata": {},
   "outputs": [
    {
     "data": {
      "text/plain": [
       "array([[ 0.71144895, -0.64599032, -0.34174219, -0.27342593, -1.35391805,\n",
       "         1.21034188],\n",
       "       [ 0.81074102,  1.55907519, -0.38158762, -0.09154743,  1.3829889 ,\n",
       "        -1.15108771],\n",
       "       [ 1.47309279, -0.53721194,  0.5747142 , -1.06507134,  1.05933088,\n",
       "         0.28477523]])"
      ]
     },
     "execution_count": 128,
     "metadata": {},
     "output_type": "execute_result"
    }
   ],
   "source": [
    "arr.T"
   ]
  },
  {
   "cell_type": "code",
   "execution_count": 127,
   "id": "6a6965fd",
   "metadata": {},
   "outputs": [
    {
     "data": {
      "text/plain": [
       "array([[ 4.41303413, -3.54057391,  0.40030625],\n",
       "       [-3.54057391,  6.4796677 ,  1.37218524],\n",
       "       [ 0.40030625,  1.37218524,  5.12655128]])"
      ]
     },
     "execution_count": 127,
     "metadata": {},
     "output_type": "execute_result"
    }
   ],
   "source": [
    "np.dot(arr.T,arr)\n",
    "#arr.T와 arr의 내적"
   ]
  },
  {
   "cell_type": "code",
   "execution_count": 131,
   "id": "633d4c35",
   "metadata": {},
   "outputs": [
    {
     "data": {
      "text/plain": [
       "array([[[ 0,  1,  2,  3],\n",
       "        [ 4,  5,  6,  7]],\n",
       "\n",
       "       [[ 8,  9, 10, 11],\n",
       "        [12, 13, 14, 15]]])"
      ]
     },
     "execution_count": 131,
     "metadata": {},
     "output_type": "execute_result"
    }
   ],
   "source": [
    "#다차원 배열의 경우 transpose 메서드는 튜플로 축 번호를 받아서 치환한다\n",
    "arr=np.arange(16).reshape((2,2,4))\n",
    "arr"
   ]
  },
  {
   "cell_type": "code",
   "execution_count": 135,
   "id": "843626a8",
   "metadata": {},
   "outputs": [
    {
     "data": {
      "text/plain": [
       "array([[[ 0,  8],\n",
       "        [ 4, 12]],\n",
       "\n",
       "       [[ 1,  9],\n",
       "        [ 5, 13]],\n",
       "\n",
       "       [[ 2, 10],\n",
       "        [ 6, 14]],\n",
       "\n",
       "       [[ 3, 11],\n",
       "        [ 7, 15]]])"
      ]
     },
     "execution_count": 135,
     "metadata": {},
     "output_type": "execute_result"
    }
   ],
   "source": [
    "arr.transpose()"
   ]
  },
  {
   "cell_type": "code",
   "execution_count": 139,
   "id": "3a55162c",
   "metadata": {},
   "outputs": [
    {
     "data": {
      "text/plain": [
       "array([[[ 0,  1,  2,  3],\n",
       "        [ 8,  9, 10, 11]],\n",
       "\n",
       "       [[ 4,  5,  6,  7],\n",
       "        [12, 13, 14, 15]]])"
      ]
     },
     "execution_count": 139,
     "metadata": {},
     "output_type": "execute_result"
    }
   ],
   "source": [
    "arr.transpose((1,0,2))\n",
    "#튜플을 이용하여 축 순서를 지정 가능 (첫 번쨰와 두 번째 축 순서가 뒤바뀌었고, 마지막 축은 그대로 남았다)"
   ]
  },
  {
   "cell_type": "code",
   "execution_count": 146,
   "id": "dec5fb1f",
   "metadata": {},
   "outputs": [
    {
     "data": {
      "text/plain": [
       "array([[[ 0,  4],\n",
       "        [ 1,  5],\n",
       "        [ 2,  6],\n",
       "        [ 3,  7]],\n",
       "\n",
       "       [[ 8, 12],\n",
       "        [ 9, 13],\n",
       "        [10, 14],\n",
       "        [11, 15]]])"
      ]
     },
     "execution_count": 146,
     "metadata": {},
     "output_type": "execute_result"
    }
   ],
   "source": [
    "#T 속성을 이용하는 간단한 전치는 축을 뒤바뀌는 특별한 경우다. ndarray에는 swapaxes라는 메서드가 있는데 두 개의 축 번호를 받아서 배열을 뒤바꾼다.\n",
    "arr.swapaxes(1,2)"
   ]
  },
  {
   "cell_type": "code",
   "execution_count": 147,
   "id": "95c41764",
   "metadata": {},
   "outputs": [
    {
     "data": {
      "text/plain": [
       "array([[[ 0,  1,  2,  3],\n",
       "        [ 8,  9, 10, 11]],\n",
       "\n",
       "       [[ 4,  5,  6,  7],\n",
       "        [12, 13, 14, 15]]])"
      ]
     },
     "execution_count": 147,
     "metadata": {},
     "output_type": "execute_result"
    }
   ],
   "source": [
    "arr.swapaxes(0,1)"
   ]
  },
  {
   "cell_type": "code",
   "execution_count": 148,
   "id": "196140eb",
   "metadata": {},
   "outputs": [
    {
     "data": {
      "text/plain": [
       "array([0, 1, 2, 3, 4, 5, 6, 7, 8, 9])"
      ]
     },
     "execution_count": 148,
     "metadata": {},
     "output_type": "execute_result"
    }
   ],
   "source": [
    "arr=np.arange(10)\n",
    "arr"
   ]
  },
  {
   "cell_type": "code",
   "execution_count": 149,
   "id": "80565692",
   "metadata": {},
   "outputs": [
    {
     "data": {
      "text/plain": [
       "array([0.        , 1.        , 1.41421356, 1.73205081, 2.        ,\n",
       "       2.23606798, 2.44948974, 2.64575131, 2.82842712, 3.        ])"
      ]
     },
     "execution_count": 149,
     "metadata": {},
     "output_type": "execute_result"
    }
   ],
   "source": [
    "np.sqrt(arr)"
   ]
  },
  {
   "cell_type": "code",
   "execution_count": 151,
   "id": "d000f4ed",
   "metadata": {
    "scrolled": true
   },
   "outputs": [
    {
     "data": {
      "text/plain": [
       "array([1.00000000e+00, 2.71828183e+00, 7.38905610e+00, 2.00855369e+01,\n",
       "       5.45981500e+01, 1.48413159e+02, 4.03428793e+02, 1.09663316e+03,\n",
       "       2.98095799e+03, 8.10308393e+03])"
      ]
     },
     "execution_count": 151,
     "metadata": {},
     "output_type": "execute_result"
    }
   ],
   "source": [
    "np.exp(arr)\n",
    "#이러한 방식으로 작동하는 함수들을 단항 유니버설 함수라고 한다."
   ]
  },
  {
   "cell_type": "code",
   "execution_count": 152,
   "id": "8632355c",
   "metadata": {},
   "outputs": [
    {
     "data": {
      "text/plain": [
       "(array([-2.02201797, -0.81317994, -1.16565246, -1.67892933, -2.46942338,\n",
       "        -1.05350578,  2.64666423, -0.20875679]),\n",
       " array([ 1.00412046,  0.27407236,  0.83011509, -1.17258254, -0.91440597,\n",
       "         1.74637947,  0.62199533, -0.1829507 ]))"
      ]
     },
     "execution_count": 152,
     "metadata": {},
     "output_type": "execute_result"
    }
   ],
   "source": [
    "x=np.random.randn(8)\n",
    "y=np.random.randn(8)\n",
    "x,y"
   ]
  },
  {
   "cell_type": "code",
   "execution_count": 153,
   "id": "efffe915",
   "metadata": {},
   "outputs": [
    {
     "data": {
      "text/plain": [
       "array([ 1.00412046,  0.27407236,  0.83011509, -1.17258254, -0.91440597,\n",
       "        1.74637947,  2.64666423, -0.1829507 ])"
      ]
     },
     "execution_count": 153,
     "metadata": {},
     "output_type": "execute_result"
    }
   ],
   "source": [
    "np.maximum(x,y)\n",
    "#2개의 인자를 취해서 단일 배열을 반환하는 함수는 이항 유니버설 함수라고 한다."
   ]
  },
  {
   "cell_type": "code",
   "execution_count": 156,
   "id": "93fd7be2",
   "metadata": {},
   "outputs": [
    {
     "data": {
      "text/plain": [
       "array([ 9.48097333, -8.48732785,  2.90228352,  9.30776765, -6.69768891,\n",
       "        1.2687164 ,  3.03861079])"
      ]
     },
     "execution_count": 156,
     "metadata": {},
     "output_type": "execute_result"
    }
   ],
   "source": [
    "#유니버설 함수는 선택적으로 out인자를 취해 계산 결과를 따로 저장할 수도 있다.\n",
    "arr=np.random.randn(7)*5\n",
    "arr"
   ]
  },
  {
   "cell_type": "code",
   "execution_count": 157,
   "id": "59eef5a0",
   "metadata": {},
   "outputs": [
    {
     "name": "stderr",
     "output_type": "stream",
     "text": [
      "/var/folders/l4/y_bsqjv51cg_wqy5xcj1b3940000gn/T/ipykernel_69133/2296558006.py:1: RuntimeWarning: invalid value encountered in sqrt\n",
      "  np.sqrt(arr)\n"
     ]
    },
    {
     "data": {
      "text/plain": [
       "array([3.07911892,        nan, 1.70360897, 3.05086343,        nan,\n",
       "       1.12637312, 1.74316115])"
      ]
     },
     "execution_count": 157,
     "metadata": {},
     "output_type": "execute_result"
    }
   ],
   "source": [
    "np.sqrt(arr)\n",
    "#제곱근 계산"
   ]
  },
  {
   "cell_type": "code",
   "execution_count": 158,
   "id": "e62fda88",
   "metadata": {},
   "outputs": [
    {
     "data": {
      "text/plain": [
       "array([ 9.48097333, -8.48732785,  2.90228352,  9.30776765, -6.69768891,\n",
       "        1.2687164 ,  3.03861079])"
      ]
     },
     "execution_count": 158,
     "metadata": {},
     "output_type": "execute_result"
    }
   ],
   "source": [
    "arr"
   ]
  },
  {
   "cell_type": "code",
   "execution_count": 159,
   "id": "acc4ca97",
   "metadata": {},
   "outputs": [
    {
     "name": "stderr",
     "output_type": "stream",
     "text": [
      "/var/folders/l4/y_bsqjv51cg_wqy5xcj1b3940000gn/T/ipykernel_69133/1371627048.py:1: RuntimeWarning: invalid value encountered in sqrt\n",
      "  np.sqrt(arr,arr)\n"
     ]
    },
    {
     "data": {
      "text/plain": [
       "array([3.07911892,        nan, 1.70360897, 3.05086343,        nan,\n",
       "       1.12637312, 1.74316115])"
      ]
     },
     "execution_count": 159,
     "metadata": {},
     "output_type": "execute_result"
    }
   ],
   "source": [
    "np.sqrt(arr,arr)\n",
    "#유니버설 함수는 선택적으로 Out 인자를 취해 계산 결과를 따로 저장할 수도 있다."
   ]
  },
  {
   "cell_type": "code",
   "execution_count": 160,
   "id": "f37f4f02",
   "metadata": {},
   "outputs": [
    {
     "data": {
      "text/plain": [
       "array([3.07911892,        nan, 1.70360897, 3.05086343,        nan,\n",
       "       1.12637312, 1.74316115])"
      ]
     },
     "execution_count": 160,
     "metadata": {},
     "output_type": "execute_result"
    }
   ],
   "source": [
    "arr"
   ]
  },
  {
   "cell_type": "markdown",
   "id": "3cec8be2",
   "metadata": {},
   "source": [
    "## 4.3 배열을 이용한 배열지향 프로그래밍"
   ]
  }
 ],
 "metadata": {
  "kernelspec": {
   "display_name": "Python 3 (ipykernel)",
   "language": "python",
   "name": "python3"
  },
  "language_info": {
   "codemirror_mode": {
    "name": "ipython",
    "version": 3
   },
   "file_extension": ".py",
   "mimetype": "text/x-python",
   "name": "python",
   "nbconvert_exporter": "python",
   "pygments_lexer": "ipython3",
   "version": "3.10.9"
  }
 },
 "nbformat": 4,
 "nbformat_minor": 5
}

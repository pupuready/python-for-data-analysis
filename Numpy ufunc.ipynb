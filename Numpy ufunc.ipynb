{
 "cells": [
  {
   "cell_type": "markdown",
   "id": "3b463cda",
   "metadata": {},
   "source": [
    "## ufunc 라고 불리기도 하는 유니버설 함수는 ndarray 안에 있는 데이터 원소별로 연산을 수행하는 함수다. 유니버설 함수는 하나 이상의 스칼라 값을 받아서 하나 이상의 스칼라 결과 값을 반환하는 함수이다. 고속으로 수행할 수 있는 벡터화된 래퍼 함수라고 생각하면 된다.\n",
    "### 래퍼 함수(Wrapper function)는 다른 함수를 감싸고(wrapper) 호출하거나 수정하여 추가 동작을 수행하는 함수를 말한다."
   ]
  },
  {
   "cell_type": "code",
   "execution_count": 2,
   "id": "e33cf57c",
   "metadata": {},
   "outputs": [
    {
     "data": {
      "text/plain": [
       "array([0, 1, 2, 3, 4, 5, 6, 7, 8, 9])"
      ]
     },
     "execution_count": 2,
     "metadata": {},
     "output_type": "execute_result"
    }
   ],
   "source": [
    "\n",
    "import numpy as np\n",
    "arr= np.arange(10)\n",
    "arr"
   ]
  },
  {
   "cell_type": "markdown",
   "id": "ca7f5ea8",
   "metadata": {},
   "source": [
    "## 단항 유니버설 함수"
   ]
  },
  {
   "cell_type": "code",
   "execution_count": 3,
   "id": "5e3d96c6",
   "metadata": {},
   "outputs": [
    {
     "data": {
      "text/plain": [
       "array([0.        , 1.        , 1.41421356, 1.73205081, 2.        ,\n",
       "       2.23606798, 2.44948974, 2.64575131, 2.82842712, 3.        ])"
      ]
     },
     "execution_count": 3,
     "metadata": {},
     "output_type": "execute_result"
    }
   ],
   "source": [
    "np.sqrt(arr) # 제곱근을 계산"
   ]
  },
  {
   "cell_type": "code",
   "execution_count": null,
   "id": "ef9cde73",
   "metadata": {},
   "outputs": [],
   "source": [
    "np.square(arr) #각 원소의 제곱을 계산 "
   ]
  },
  {
   "cell_type": "code",
   "execution_count": 4,
   "id": "75394058",
   "metadata": {},
   "outputs": [
    {
     "data": {
      "text/plain": [
       "array([1.00000000e+00, 2.71828183e+00, 7.38905610e+00, 2.00855369e+01,\n",
       "       5.45981500e+01, 1.48413159e+02, 4.03428793e+02, 1.09663316e+03,\n",
       "       2.98095799e+03, 8.10308393e+03])"
      ]
     },
     "execution_count": 4,
     "metadata": {},
     "output_type": "execute_result"
    }
   ],
   "source": [
    "np.exp(arr) #각 원소의 지수함수(e^x) 계산"
   ]
  },
  {
   "cell_type": "code",
   "execution_count": 5,
   "id": "a1051568",
   "metadata": {},
   "outputs": [
    {
     "name": "stderr",
     "output_type": "stream",
     "text": [
      "/var/folders/l4/y_bsqjv51cg_wqy5xcj1b3940000gn/T/ipykernel_7397/3120950136.py:1: RuntimeWarning: divide by zero encountered in log\n",
      "  np.log(arr)\n"
     ]
    },
    {
     "data": {
      "text/plain": [
       "array([      -inf, 0.        , 0.69314718, 1.09861229, 1.38629436,\n",
       "       1.60943791, 1.79175947, 1.94591015, 2.07944154, 2.19722458])"
      ]
     },
     "execution_count": 5,
     "metadata": {},
     "output_type": "execute_result"
    }
   ],
   "source": [
    "np.log(arr) #자연 로그를 계산. log10, log2,log1p 는 각각 로그10,로그2,로그(1+x) 계산"
   ]
  },
  {
   "cell_type": "code",
   "execution_count": 6,
   "id": "d282bfc4",
   "metadata": {},
   "outputs": [
    {
     "data": {
      "text/plain": [
       "array([0, 1, 1, 1, 1, 1, 1, 1, 1, 1])"
      ]
     },
     "execution_count": 6,
     "metadata": {},
     "output_type": "execute_result"
    }
   ],
   "source": [
    "np.sign(arr) #각 원소의 부호를 계산. 0은 0, 1은 양수, -1은 음수를 의미"
   ]
  },
  {
   "cell_type": "code",
   "execution_count": 13,
   "id": "83845c36",
   "metadata": {},
   "outputs": [
    {
     "data": {
      "text/plain": [
       "array([ 6.54374145, -3.42980576, -3.13354923,  3.52547703, -1.8716203 ,\n",
       "       -0.23389988, -5.13359235, -1.76132344])"
      ]
     },
     "execution_count": 13,
     "metadata": {},
     "output_type": "execute_result"
    }
   ],
   "source": [
    "arr=np.random.randn(8)*4\n",
    "arr"
   ]
  },
  {
   "cell_type": "code",
   "execution_count": 17,
   "id": "ea3411b9",
   "metadata": {},
   "outputs": [
    {
     "data": {
      "text/plain": [
       "array([ 7., -3., -3.,  4., -1., -0., -5., -1.])"
      ]
     },
     "execution_count": 17,
     "metadata": {},
     "output_type": "execute_result"
    }
   ],
   "source": [
    "np.ceil(arr) # 각 원소의 소수자리를 올린다.\n"
   ]
  },
  {
   "cell_type": "code",
   "execution_count": 19,
   "id": "46bd0a9a",
   "metadata": {},
   "outputs": [
    {
     "data": {
      "text/plain": [
       "array([ 6., -4., -4.,  3., -2., -1., -6., -2.])"
      ]
     },
     "execution_count": 19,
     "metadata": {},
     "output_type": "execute_result"
    }
   ],
   "source": [
    "np.floor(arr) #각 원소의 소수자리를 내린다."
   ]
  },
  {
   "cell_type": "code",
   "execution_count": 20,
   "id": "e41436ca",
   "metadata": {},
   "outputs": [
    {
     "data": {
      "text/plain": [
       "array([ 7., -3., -3.,  4., -2., -0., -5., -2.])"
      ]
     },
     "execution_count": 20,
     "metadata": {},
     "output_type": "execute_result"
    }
   ],
   "source": [
    "np.rint(arr) #각 원소의 소수자리를 반올림한다. dtype은 유지된다"
   ]
  },
  {
   "cell_type": "code",
   "execution_count": 21,
   "id": "a240ed97",
   "metadata": {},
   "outputs": [
    {
     "data": {
      "text/plain": [
       "(array([ 0.54374145, -0.42980576, -0.13354923,  0.52547703, -0.8716203 ,\n",
       "        -0.23389988, -0.13359235, -0.76132344]),\n",
       " array([ 6., -3., -3.,  3., -1., -0., -5., -1.]))"
      ]
     },
     "execution_count": 21,
     "metadata": {},
     "output_type": "execute_result"
    }
   ],
   "source": [
    "np.modf(arr) #각 원소의 몫과 나머지를 각각의 배열로 반환한다."
   ]
  },
  {
   "cell_type": "code",
   "execution_count": 22,
   "id": "eeef2073",
   "metadata": {},
   "outputs": [
    {
     "data": {
      "text/plain": [
       "array([False, False, False, False, False, False, False, False])"
      ]
     },
     "execution_count": 22,
     "metadata": {},
     "output_type": "execute_result"
    }
   ],
   "source": [
    "np.isnan(arr) #각 원소가 숫자가 아닌지를 나타내는 불리언 배열을 반환한다."
   ]
  },
  {
   "cell_type": "markdown",
   "id": "e117ae69",
   "metadata": {},
   "source": [
    "## 이항 유니버설 함수"
   ]
  },
  {
   "cell_type": "code",
   "execution_count": 24,
   "id": "86e289f5",
   "metadata": {},
   "outputs": [
    {
     "data": {
      "text/plain": [
       "(array([-5.42702991, -1.76745298, -4.48174217, 10.48743983, -2.18265429,\n",
       "         6.45907653, -3.06613725]),\n",
       " array([ 1.18489649, -7.18918909, -2.15816664,  7.85140577,  0.85979612,\n",
       "         0.06029591,  8.14517696]))"
      ]
     },
     "execution_count": 24,
     "metadata": {},
     "output_type": "execute_result"
    }
   ],
   "source": [
    "x=np.random.randn(7)*5\n",
    "y=np.random.randn(7)*5\n",
    "x,y"
   ]
  },
  {
   "cell_type": "code",
   "execution_count": 25,
   "id": "c52422de",
   "metadata": {},
   "outputs": [
    {
     "data": {
      "text/plain": [
       "array([-4.24213342, -8.95664208, -6.63990881, 18.3388456 , -1.32285816,\n",
       "        6.51937244,  5.07903971])"
      ]
     },
     "execution_count": 25,
     "metadata": {},
     "output_type": "execute_result"
    }
   ],
   "source": [
    "np.add(x,y) #두 배열의 같은 위치의 원소를 더한다."
   ]
  },
  {
   "cell_type": "code",
   "execution_count": 27,
   "id": "789bd8df",
   "metadata": {},
   "outputs": [
    {
     "data": {
      "text/plain": [
       "array([ -6.6119264 ,   5.42173611,  -2.32357552,   2.63603405,\n",
       "        -3.04245041,   6.39878063, -11.21131421])"
      ]
     },
     "execution_count": 27,
     "metadata": {},
     "output_type": "execute_result"
    }
   ],
   "source": [
    "np.subtract(x,y) #첫번째 배열의 원소에서 두번째 배열의 원소를 뺀다"
   ]
  },
  {
   "cell_type": "code",
   "execution_count": 28,
   "id": "56df82a2",
   "metadata": {},
   "outputs": [
    {
     "data": {
      "text/plain": [
       "array([ -6.43046869,  12.70655372,   9.67234644,  82.34114563,\n",
       "        -1.8766377 ,   0.38945587, -24.97423051])"
      ]
     },
     "execution_count": 28,
     "metadata": {},
     "output_type": "execute_result"
    }
   ],
   "source": [
    "np.multiply(x,y) #배열의 원소끼리 곱한다"
   ]
  },
  {
   "cell_type": "code",
   "execution_count": 29,
   "id": "f9b2fb96",
   "metadata": {},
   "outputs": [
    {
     "data": {
      "text/plain": [
       "array([ -4.58017216,   0.24584873,   2.07664324,   1.33574039,\n",
       "        -2.53857191, 107.12297176,  -0.37643593])"
      ]
     },
     "execution_count": 29,
     "metadata": {},
     "output_type": "execute_result"
    }
   ],
   "source": [
    "np.divide(x,y) #첫 번째 배열의 원소를 두 번째 배열의 원소로 나눈다."
   ]
  },
  {
   "cell_type": "code",
   "execution_count": 30,
   "id": "d53f9309",
   "metadata": {},
   "outputs": [
    {
     "name": "stderr",
     "output_type": "stream",
     "text": [
      "/var/folders/l4/y_bsqjv51cg_wqy5xcj1b3940000gn/T/ipykernel_7397/596891162.py:1: RuntimeWarning: invalid value encountered in power\n",
      "  np.power(x,y)#첫번째 배열을 두 번째 배열의 원소만큼 제곱한다.\n"
     ]
    },
    {
     "data": {
      "text/plain": [
       "array([           nan,            nan,            nan, 1.03202511e+08,\n",
       "                  nan, 1.11905121e+00,            nan])"
      ]
     },
     "execution_count": 30,
     "metadata": {},
     "output_type": "execute_result"
    }
   ],
   "source": [
    "np.power(x,y)#첫번째 배열을 두 번째 배열의 원소만큼 제곱한다."
   ]
  },
  {
   "cell_type": "code",
   "execution_count": 31,
   "id": "847a852c",
   "metadata": {},
   "outputs": [
    {
     "data": {
      "text/plain": [
       "array([ 1.18489649, -1.76745298, -2.15816664, 10.48743983,  0.85979612,\n",
       "        6.45907653,  8.14517696])"
      ]
     },
     "execution_count": 31,
     "metadata": {},
     "output_type": "execute_result"
    }
   ],
   "source": [
    "np.maximum(x,y)#각 배열의 두 원소 중 큰 값을 반환한다."
   ]
  },
  {
   "cell_type": "code",
   "execution_count": 32,
   "id": "780dafc7",
   "metadata": {},
   "outputs": [
    {
     "data": {
      "text/plain": [
       "array([-5.42702991, -7.18918909, -4.48174217,  7.85140577, -2.18265429,\n",
       "        0.06029591, -3.06613725])"
      ]
     },
     "execution_count": 32,
     "metadata": {},
     "output_type": "execute_result"
    }
   ],
   "source": [
    "np.minimum(x,y)#긱 배열의 두 원소 중 작은 값을 반환한다."
   ]
  },
  {
   "cell_type": "code",
   "execution_count": 33,
   "id": "698ed86a",
   "metadata": {},
   "outputs": [
    {
     "data": {
      "text/plain": [
       "array([ 0.49745254, -1.76745298, -0.16540888,  2.63603405,  0.39673408,\n",
       "        0.00741469,  5.07903971])"
      ]
     },
     "execution_count": 33,
     "metadata": {},
     "output_type": "execute_result"
    }
   ],
   "source": [
    "np.mod(x,y) #첫 번째 배열의 원소를 두 번째 배열의 원소로 나눈 나머지를 구한다"
   ]
  },
  {
   "cell_type": "code",
   "execution_count": 34,
   "id": "393a6949",
   "metadata": {},
   "outputs": [
    {
     "data": {
      "text/plain": [
       "array([ 5.42702991, -1.76745298, -4.48174217, 10.48743983,  2.18265429,\n",
       "        6.45907653,  3.06613725])"
      ]
     },
     "execution_count": 34,
     "metadata": {},
     "output_type": "execute_result"
    }
   ],
   "source": [
    "np.copysign(x,y)#첫 번쨰 배열의 원소의 기호를 두 번째 배열의 원소의 기호로 바꾼다\n"
   ]
  },
  {
   "cell_type": "code",
   "execution_count": 35,
   "id": "2c5f8b85",
   "metadata": {},
   "outputs": [
    {
     "data": {
      "text/plain": [
       "array([False,  True, False,  True, False,  True, False])"
      ]
     },
     "execution_count": 35,
     "metadata": {},
     "output_type": "execute_result"
    }
   ],
   "source": [
    "#greater,greater)equal,less,less equal,equal,not_equal\n",
    "#은 >,>=,<,<=,=,!=의 연산결과를 불리언 배열로 반환한다.\n",
    "np.greater(x,y)"
   ]
  },
  {
   "cell_type": "code",
   "execution_count": 38,
   "id": "c8f93fdf",
   "metadata": {},
   "outputs": [
    {
     "data": {
      "text/plain": [
       "array([ True,  True,  True,  True,  True,  True,  True])"
      ]
     },
     "execution_count": 38,
     "metadata": {},
     "output_type": "execute_result"
    }
   ],
   "source": [
    "#logical_and =&\n",
    "#logical_or =|\n",
    "#logical_xor=^ 의 논리연산 결과를 반환한다.\n",
    "np.logical_and(x,y)"
   ]
  },
  {
   "cell_type": "code",
   "execution_count": null,
   "id": "07ed76cf",
   "metadata": {},
   "outputs": [],
   "source": []
  }
 ],
 "metadata": {
  "kernelspec": {
   "display_name": "Python 3 (ipykernel)",
   "language": "python",
   "name": "python3"
  },
  "language_info": {
   "codemirror_mode": {
    "name": "ipython",
    "version": 3
   },
   "file_extension": ".py",
   "mimetype": "text/x-python",
   "name": "python",
   "nbconvert_exporter": "python",
   "pygments_lexer": "ipython3",
   "version": "3.10.9"
  }
 },
 "nbformat": 4,
 "nbformat_minor": 5
}
